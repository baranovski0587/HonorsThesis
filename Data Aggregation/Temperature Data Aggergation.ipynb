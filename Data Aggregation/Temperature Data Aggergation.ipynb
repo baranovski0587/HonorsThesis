{
 "cells": [
  {
   "cell_type": "code",
   "execution_count": 1,
   "metadata": {},
   "outputs": [],
   "source": [
    "import pandas as pd\n",
    "import numpy as np\n",
    "import os\n",
    "import rasterio \n",
    "from rasterio.transform import xy\n",
    "import geopandas as gpd\n",
    "from rasterio.features import geometry_mask\n",
    "from shapely.geometry import Point"
   ]
  },
  {
   "cell_type": "code",
   "execution_count": 2,
   "metadata": {},
   "outputs": [
    {
     "name": "stdout",
     "output_type": "stream",
     "text": [
      "Temperature Data Shape: (621, 1405)\n",
      "Affine Transformation: | 0.04, 0.00,-125.02|\n",
      "| 0.00,-0.04, 49.94|\n",
      "| 0.00, 0.00, 1.00|\n",
      "Coordinate Reference System: OGC:CRS83\n",
      "Geographic Bounds: BoundingBox(left=-125.0208333333335, bottom=24.0624999997925, right=-66.4791666661985, top=49.9374999999995)\n",
      "First 5 rows and columns of temperature data:\n",
      "[[-9999. -9999. -9999. -9999. -9999.]\n",
      " [-9999. -9999. -9999. -9999. -9999.]\n",
      " [-9999. -9999. -9999. -9999. -9999.]\n",
      " [-9999. -9999. -9999. -9999. -9999.]\n",
      " [-9999. -9999. -9999. -9999. -9999.]]\n"
     ]
    }
   ],
   "source": [
    "\n",
    "bil_file = r'C:\\Users\\yegor\\Desktop\\Honors Thesis\\Data\\Temperature\\PRISM_tmean_stable_4kmD2_20190101_20191231_bil\\PRISM_tmean_stable_4kmD2_20190101_bil.bil'\n",
    "\n",
    "with rasterio.open(bil_file) as dataset:\n",
    "    tmean_data = dataset.read(1)  # temp data\n",
    "    affine = dataset.transform  # transformation matrix\n",
    "    crs = dataset.crs  # coordinates\n",
    "    bounds = dataset.bounds  # geo bounds\n",
    "    \n",
    "    print(f\"Temperature Data Shape: {tmean_data.shape}\")\n",
    "    print(f\"Affine Transformation: {affine}\")\n",
    "    print(f\"Coordinate Reference System: {crs}\")\n",
    "    print(f\"Geographic Bounds: {bounds}\")\n",
    "    \n",
    "    print(\"First 5 rows and columns of temperature data:\")\n",
    "    print(tmean_data[:5, :5])  #top left 5x5 tempt data\n"
   ]
  },
  {
   "cell_type": "code",
   "execution_count": 3,
   "metadata": {},
   "outputs": [
    {
     "name": "stdout",
     "output_type": "stream",
     "text": [
      "First valid temperature value: -24.99700164794922\n",
      "Corresponding coordinates: Longitude = -95.124999999761, Latitude = 49.416666666662\n"
     ]
    }
   ],
   "source": [
    "bil_file = r'C:\\Users\\yegor\\Desktop\\Honors Thesis\\Data\\Temperature\\PRISM_tmean_stable_4kmD2_20190101_20191231_bil\\PRISM_tmean_stable_4kmD2_20190101_bil.bil'\n",
    "with rasterio.open(bil_file) as dataset:\n",
    "    tmean_data = dataset.read(1)  #first band is temp data\n",
    "    affine = dataset.transform  # transformation matric\n",
    "    crs = dataset.crs  # coordinate refernce system\n",
    "\n",
    "    valid_temperature_data = np.ma.masked_equal(tmean_data, -9999) # mask \"missing values\"\n",
    "    \n",
    "    # row col of missing\n",
    "    valid_indices = np.argwhere(valid_temperature_data.mask == False)\n",
    "\n",
    "    # conversion to coordinates\n",
    "    row, col = valid_indices[0]\n",
    "    lon, lat = rasterio.transform.xy(affine, row, col, offset='center')\n",
    "    \n",
    "    print(f\"First valid temperature value: {valid_temperature_data[row, col]}\")\n",
    "    print(f\"Corresponding coordinates: Longitude = {lon}, Latitude = {lat}\")\n"
   ]
  },
  {
   "cell_type": "code",
   "execution_count": 4,
   "metadata": {},
   "outputs": [
    {
     "name": "stdout",
     "output_type": "stream",
     "text": [
      "First valid temperature value: 0.0024999999441206455\n",
      "Corresponding coordinates: Longitude = -95.124999999761, Latitude = 49.416666666662\n"
     ]
    }
   ],
   "source": [
    "bil_file = r'C:\\Users\\yegor\\Desktop\\Honors Thesis\\Data\\Temperature\\PRISM_tmean_stable_4kmD2_20190101_20191231_bil\\PRISM_tmean_stable_4kmD2_20190402_bil.bil'\n",
    "with rasterio.open(bil_file) as dataset:\n",
    "    tmean_data = dataset.read(1)  #first band is temp data\n",
    "    affine = dataset.transform  # transformation matric\n",
    "    crs = dataset.crs  # coordinate refernce system\n",
    "\n",
    "    valid_temperature_data = np.ma.masked_equal(tmean_data, -9999) # mask \"missing values\"\n",
    "    \n",
    "    # row col of missing\n",
    "    valid_indices = np.argwhere(valid_temperature_data.mask == False)\n",
    "\n",
    "    # conversion to coordinates\n",
    "    row, col = valid_indices[0]\n",
    "    lon, lat = rasterio.transform.xy(affine, row, col, offset='center')\n",
    "    \n",
    "    print(f\"First valid temperature value: {valid_temperature_data[row, col]}\")\n",
    "    print(f\"Corresponding coordinates: Longitude = {lon}, Latitude = {lat}\")"
   ]
  },
  {
   "cell_type": "code",
   "execution_count": 5,
   "metadata": {},
   "outputs": [],
   "source": [
    "temperature_records = []\n",
    "\n",
    "# Read the .bil file (example: January 1, 2019)\n",
    "bil_file = r'C:\\Users\\yegor\\Desktop\\Honors Thesis\\Data\\Temperature\\PRISM_tmean_stable_4kmD2_20190101_20191231_bil\\PRISM_tmean_stable_4kmD2_20190101_bil.bil'\n",
    "\n",
    "with rasterio.open(bil_file) as dataset:\n",
    "    tmean_data = dataset.read(1)  \n",
    "    affine = dataset.transform  \n",
    "\n",
    "    #mask data\n",
    "    tmean_data = np.ma.masked_equal(tmean_data, -9999)\n",
    "    \n",
    "    #loop through the grid and store valid data\n",
    "    for row in range(tmean_data.shape[0]):\n",
    "        for col in range(tmean_data.shape[1]):\n",
    "            if not tmean_data.mask[row, col]:  #valid data only\n",
    "                lon, lat = xy(affine, row, col)  #geo coordinate conversion\n",
    "                temperature = tmean_data[row, col]\n",
    "                #store as dictionary \n",
    "                temperature_records.append({\n",
    "                    'latitude': lat,\n",
    "                    'longitude': lon,\n",
    "                    'temperature': temperature,\n",
    "                    'date': '2019-01-01'  \n",
    "                })\n",
    "\n",
    "\n",
    "df = pd.DataFrame(temperature_records)"
   ]
  },
  {
   "cell_type": "code",
   "execution_count": 6,
   "metadata": {},
   "outputs": [
    {
     "data": {
      "text/html": [
       "<div>\n",
       "<style scoped>\n",
       "    .dataframe tbody tr th:only-of-type {\n",
       "        vertical-align: middle;\n",
       "    }\n",
       "\n",
       "    .dataframe tbody tr th {\n",
       "        vertical-align: top;\n",
       "    }\n",
       "\n",
       "    .dataframe thead th {\n",
       "        text-align: right;\n",
       "    }\n",
       "</style>\n",
       "<table border=\"1\" class=\"dataframe\">\n",
       "  <thead>\n",
       "    <tr style=\"text-align: right;\">\n",
       "      <th></th>\n",
       "      <th>latitude</th>\n",
       "      <th>longitude</th>\n",
       "      <th>temperature</th>\n",
       "      <th>date</th>\n",
       "    </tr>\n",
       "  </thead>\n",
       "  <tbody>\n",
       "    <tr>\n",
       "      <th>0</th>\n",
       "      <td>49.416667</td>\n",
       "      <td>-95.125000</td>\n",
       "      <td>-24.997002</td>\n",
       "      <td>2019-01-01</td>\n",
       "    </tr>\n",
       "    <tr>\n",
       "      <th>1</th>\n",
       "      <td>49.375000</td>\n",
       "      <td>-95.166667</td>\n",
       "      <td>-24.939001</td>\n",
       "      <td>2019-01-01</td>\n",
       "    </tr>\n",
       "    <tr>\n",
       "      <th>2</th>\n",
       "      <td>49.375000</td>\n",
       "      <td>-95.125000</td>\n",
       "      <td>-24.968000</td>\n",
       "      <td>2019-01-01</td>\n",
       "    </tr>\n",
       "    <tr>\n",
       "      <th>3</th>\n",
       "      <td>49.375000</td>\n",
       "      <td>-95.083333</td>\n",
       "      <td>-25.041000</td>\n",
       "      <td>2019-01-01</td>\n",
       "    </tr>\n",
       "    <tr>\n",
       "      <th>4</th>\n",
       "      <td>49.375000</td>\n",
       "      <td>-95.041667</td>\n",
       "      <td>-25.163002</td>\n",
       "      <td>2019-01-01</td>\n",
       "    </tr>\n",
       "    <tr>\n",
       "      <th>...</th>\n",
       "      <td>...</td>\n",
       "      <td>...</td>\n",
       "      <td>...</td>\n",
       "      <td>...</td>\n",
       "    </tr>\n",
       "    <tr>\n",
       "      <th>481626</th>\n",
       "      <td>24.541667</td>\n",
       "      <td>-81.666667</td>\n",
       "      <td>25.906002</td>\n",
       "      <td>2019-01-01</td>\n",
       "    </tr>\n",
       "    <tr>\n",
       "      <th>481627</th>\n",
       "      <td>24.541667</td>\n",
       "      <td>-81.625000</td>\n",
       "      <td>25.937002</td>\n",
       "      <td>2019-01-01</td>\n",
       "    </tr>\n",
       "    <tr>\n",
       "      <th>481628</th>\n",
       "      <td>24.500000</td>\n",
       "      <td>-82.166667</td>\n",
       "      <td>26.131001</td>\n",
       "      <td>2019-01-01</td>\n",
       "    </tr>\n",
       "    <tr>\n",
       "      <th>481629</th>\n",
       "      <td>24.500000</td>\n",
       "      <td>-82.125000</td>\n",
       "      <td>26.119001</td>\n",
       "      <td>2019-01-01</td>\n",
       "    </tr>\n",
       "    <tr>\n",
       "      <th>481630</th>\n",
       "      <td>24.500000</td>\n",
       "      <td>-81.791667</td>\n",
       "      <td>25.960001</td>\n",
       "      <td>2019-01-01</td>\n",
       "    </tr>\n",
       "  </tbody>\n",
       "</table>\n",
       "<p>481631 rows × 4 columns</p>\n",
       "</div>"
      ],
      "text/plain": [
       "         latitude  longitude  temperature        date\n",
       "0       49.416667 -95.125000   -24.997002  2019-01-01\n",
       "1       49.375000 -95.166667   -24.939001  2019-01-01\n",
       "2       49.375000 -95.125000   -24.968000  2019-01-01\n",
       "3       49.375000 -95.083333   -25.041000  2019-01-01\n",
       "4       49.375000 -95.041667   -25.163002  2019-01-01\n",
       "...           ...        ...          ...         ...\n",
       "481626  24.541667 -81.666667    25.906002  2019-01-01\n",
       "481627  24.541667 -81.625000    25.937002  2019-01-01\n",
       "481628  24.500000 -82.166667    26.131001  2019-01-01\n",
       "481629  24.500000 -82.125000    26.119001  2019-01-01\n",
       "481630  24.500000 -81.791667    25.960001  2019-01-01\n",
       "\n",
       "[481631 rows x 4 columns]"
      ]
     },
     "execution_count": 6,
     "metadata": {},
     "output_type": "execute_result"
    }
   ],
   "source": [
    "df"
   ]
  },
  {
   "cell_type": "markdown",
   "metadata": {},
   "source": [
    "**Takes about 15-20 seconds to run one day into full output, need to aggregate by county first. County lines can change slightly over time, multiple solutions (depends on how mortality data would be defined). for instance, if they just give address for mortality, then can just aggregate to modern county lines.**\n",
    "\n"
   ]
  },
  {
   "cell_type": "code",
   "execution_count": null,
   "metadata": {},
   "outputs": [],
   "source": [
    "\n",
    "\n",
    "counties = gpd.read_file(county_shapefile)                                                                                                    \n",
    "\n",
    "print(counties.columns) \n",
    "\n",
    "counties = counties.to_crs('OGC:CRS83') # would have to loop this in for given FILE\n",
    "for row in range(valid_temperature_data.shape[0]):\n",
    "            for col in range(valid_temperature_data.shape[1]):\n",
    "                if not valid_temperature_data.mask[row, col]:  # only process valid \n",
    "                    lon, lat = rasterio.transform.xy(affine, row, col)  #convert to coords\n",
    "                    temperature = valid_temperature_data[row, col]\n",
    "\n",
    "                    # point for gril cell\n",
    "                    point = Point(lon, lat)\n",
    "\n",
    "                    #find which county this point falls into using spatial join\n",
    "                    for county in counties.itertuples():\n",
    "                        if county.geometry.contains(point):\n",
    "                            #append temperature and county FIPS code\n",
    "                            county_temperatures.append((county.GEOID, temperature))"
   ]
  },
  {
   "cell_type": "code",
   "execution_count": null,
   "metadata": {},
   "outputs": [],
   "source": [
    "counties = gpd.read_file(r\"C:\\Users\\yegor\\Desktop\\Honors Thesis\\Data\\Counties_Boundaries\\US_AtlasHCB_Counties\\US_HistCounties_Shapefile\\US_HistCounties.shp\")                                                                                                    \n"
   ]
  },
  {
   "cell_type": "code",
   "execution_count": 10,
   "metadata": {},
   "outputs": [
    {
     "name": "stdout",
     "output_type": "stream",
     "text": [
      "Index(['ID_NUM', 'NAME', 'ID', 'STATE_TERR', 'FIPS', 'VERSION', 'START_DATE',\n",
      "       'END_DATE', 'CHANGE', 'CITATION', 'START_N', 'END_N', 'AREA_SQMI',\n",
      "       'CNTY_TYPE', 'FULL_NAME', 'CROSS_REF', 'NAME_START', 'geometry'],\n",
      "      dtype='object')\n"
     ]
    }
   ],
   "source": [
    "print(counties.columns)"
   ]
  },
  {
   "cell_type": "code",
   "execution_count": 18,
   "metadata": {},
   "outputs": [],
   "source": [
    "counties['START_DATE'] = pd.to_datetime(counties['START_DATE'], errors='coerce')\n",
    "counties['END_DATE'] = pd.to_datetime(counties['END_DATE'], errors='coerce')\n",
    "\n",
    "start_date = pd.to_datetime('1981-01-01')\n",
    "end_date = pd.to_datetime('2000-12-31')\n",
    "\n",
    "counties = counties[(counties['START_DATE'] <= end_date) & (counties['END_DATE'] >= start_date)]\n"
   ]
  },
  {
   "cell_type": "code",
   "execution_count": 21,
   "metadata": {},
   "outputs": [],
   "source": [
    "first_bil_file= r\"C:\\Users\\yegor\\Desktop\\Honors Thesis\\Data\\Temperature\\PRISM_tmean_stable_4kmD2_19810101_19811231_bil\\PRISM_tmean_stable_4kmD2_19810101_bil.bil\"\n",
    "with rasterio.open(first_bil_file) as dataset:\n",
    "    tmean_data = dataset.read(1)\n",
    "    affine = dataset.transform\n",
    "    crs = dataset.crs\n",
    "\n",
    "    counties = counties.to_crs(crs)\n",
    "    \n",
    "    tmean_data = np.ma.masked_equal(tmean_data, -9999)\n",
    "\n"
   ]
  },
  {
   "cell_type": "code",
   "execution_count": null,
   "metadata": {},
   "outputs": [
    {
     "name": "stdout",
     "output_type": "stream",
     "text": [
      "     FIPS                 NAME START_DATE   END_DATE\n",
      "2   02010     ALEUTIAN ISLANDS 1980-04-01 1990-03-31\n",
      "9   02020            ANCHORAGE 1980-04-01 1990-03-31\n",
      "20  02050               BETHEL 1980-04-01 1990-03-31\n",
      "26  02060  BRISTOL BAY BOROUGH 1980-04-01 1990-03-31\n",
      "32  02070           DILLINGHAM 1980-04-01 1990-03-31\n"
     ]
    }
   ],
   "source": [
    "date_1981 = pd.to_datetime('1981-01-01')\n",
    "\n",
    "counties_1981 = counties[(counties['START_DATE'] <= date_1981) & \n",
    "                         ((counties['END_DATE'].isna()) | (counties['END_DATE'] >= date_1981))]\n",
    "\n",
    "print(counties_1981[['FIPS', 'NAME', 'START_DATE', 'END_DATE']].head())"
   ]
  },
  {
   "cell_type": "code",
   "execution_count": null,
   "metadata": {},
   "outputs": [],
   "source": [
    "counties['START_DATE'] = pd.to_datetime(counties['START_DATE'], errors='coerce')\n",
    "counties['END_DATE'] = pd.to_datetime(counties['END_DATE'], errors='coerce')\n",
    "\n",
    "start_date = pd.to_datetime('1981-01-01')\n",
    "end_date = pd.to_datetime('2000-12-31')\n",
    "\n",
    "counties = counties[(counties['START_DATE'] <= end_date) & (counties['END_DATE'] >= start_date)]\n"
   ]
  },
  {
   "cell_type": "code",
   "execution_count": 28,
   "metadata": {},
   "outputs": [],
   "source": [
    "counties_1981 = counties_1981.to_crs(crs)\n",
    "points = []\n",
    "temperatures = []\n",
    "#step 1: Loop through each valid grid cell to get coordinates and temperature values\n",
    "for row in range(tmean_data.shape[0]):\n",
    "    for col in range(tmean_data.shape[1]):\n",
    "        if not tmean_data.mask[row, col]: \n",
    "            lon, lat = rasterio.transform.xy(affine, row, col) \n",
    "            temperature = tmean_data[row, col]\n",
    "            \n",
    "            points.append(Point(lon, lat))\n",
    "            temperatures.append(temperature)"
   ]
  },
  {
   "cell_type": "code",
   "execution_count": 31,
   "metadata": {},
   "outputs": [],
   "source": [
    "points_gdf = gpd.GeoDataFrame({'temperature': temperatures, 'geometry': points}, crs=crs)\n",
    "\n",
    "points_with_counties = gpd.sjoin(points_gdf, counties_1981[['FIPS', 'geometry']], how='left', predicate='within')\n"
   ]
  },
  {
   "cell_type": "code",
   "execution_count": 40,
   "metadata": {},
   "outputs": [
    {
     "data": {
      "text/html": [
       "<div>\n",
       "<style scoped>\n",
       "    .dataframe tbody tr th:only-of-type {\n",
       "        vertical-align: middle;\n",
       "    }\n",
       "\n",
       "    .dataframe tbody tr th {\n",
       "        vertical-align: top;\n",
       "    }\n",
       "\n",
       "    .dataframe thead th {\n",
       "        text-align: right;\n",
       "    }\n",
       "</style>\n",
       "<table border=\"1\" class=\"dataframe\">\n",
       "  <thead>\n",
       "    <tr style=\"text-align: right;\">\n",
       "      <th></th>\n",
       "      <th>temperature</th>\n",
       "      <th>geometry</th>\n",
       "      <th>index_right</th>\n",
       "      <th>FIPS</th>\n",
       "    </tr>\n",
       "  </thead>\n",
       "  <tbody>\n",
       "    <tr>\n",
       "      <th>0</th>\n",
       "      <td>-9.248000</td>\n",
       "      <td>POINT (-95.125 49.41667)</td>\n",
       "      <td>NaN</td>\n",
       "      <td>NaN</td>\n",
       "    </tr>\n",
       "    <tr>\n",
       "      <th>1</th>\n",
       "      <td>-9.143001</td>\n",
       "      <td>POINT (-95.16667 49.375)</td>\n",
       "      <td>NaN</td>\n",
       "      <td>NaN</td>\n",
       "    </tr>\n",
       "    <tr>\n",
       "      <th>2</th>\n",
       "      <td>-9.179001</td>\n",
       "      <td>POINT (-95.125 49.375)</td>\n",
       "      <td>NaN</td>\n",
       "      <td>NaN</td>\n",
       "    </tr>\n",
       "    <tr>\n",
       "      <th>3</th>\n",
       "      <td>-9.204000</td>\n",
       "      <td>POINT (-95.08333 49.375)</td>\n",
       "      <td>NaN</td>\n",
       "      <td>NaN</td>\n",
       "    </tr>\n",
       "    <tr>\n",
       "      <th>4</th>\n",
       "      <td>-9.052000</td>\n",
       "      <td>POINT (-95.04167 49.375)</td>\n",
       "      <td>NaN</td>\n",
       "      <td>NaN</td>\n",
       "    </tr>\n",
       "    <tr>\n",
       "      <th>...</th>\n",
       "      <td>...</td>\n",
       "      <td>...</td>\n",
       "      <td>...</td>\n",
       "      <td>...</td>\n",
       "    </tr>\n",
       "    <tr>\n",
       "      <th>481626</th>\n",
       "      <td>15.522000</td>\n",
       "      <td>POINT (-81.66667 24.54167)</td>\n",
       "      <td>NaN</td>\n",
       "      <td>NaN</td>\n",
       "    </tr>\n",
       "    <tr>\n",
       "      <th>481627</th>\n",
       "      <td>15.529000</td>\n",
       "      <td>POINT (-81.625 24.54167)</td>\n",
       "      <td>NaN</td>\n",
       "      <td>NaN</td>\n",
       "    </tr>\n",
       "    <tr>\n",
       "      <th>481628</th>\n",
       "      <td>16.225000</td>\n",
       "      <td>POINT (-82.16667 24.5)</td>\n",
       "      <td>NaN</td>\n",
       "      <td>NaN</td>\n",
       "    </tr>\n",
       "    <tr>\n",
       "      <th>481629</th>\n",
       "      <td>16.247002</td>\n",
       "      <td>POINT (-82.125 24.5)</td>\n",
       "      <td>NaN</td>\n",
       "      <td>NaN</td>\n",
       "    </tr>\n",
       "    <tr>\n",
       "      <th>481630</th>\n",
       "      <td>16.458000</td>\n",
       "      <td>POINT (-81.79167 24.5)</td>\n",
       "      <td>NaN</td>\n",
       "      <td>NaN</td>\n",
       "    </tr>\n",
       "  </tbody>\n",
       "</table>\n",
       "<p>481631 rows × 4 columns</p>\n",
       "</div>"
      ],
      "text/plain": [
       "        temperature                    geometry  index_right FIPS\n",
       "0         -9.248000    POINT (-95.125 49.41667)          NaN  NaN\n",
       "1         -9.143001    POINT (-95.16667 49.375)          NaN  NaN\n",
       "2         -9.179001      POINT (-95.125 49.375)          NaN  NaN\n",
       "3         -9.204000    POINT (-95.08333 49.375)          NaN  NaN\n",
       "4         -9.052000    POINT (-95.04167 49.375)          NaN  NaN\n",
       "...             ...                         ...          ...  ...\n",
       "481626    15.522000  POINT (-81.66667 24.54167)          NaN  NaN\n",
       "481627    15.529000    POINT (-81.625 24.54167)          NaN  NaN\n",
       "481628    16.225000      POINT (-82.16667 24.5)          NaN  NaN\n",
       "481629    16.247002        POINT (-82.125 24.5)          NaN  NaN\n",
       "481630    16.458000      POINT (-81.79167 24.5)          NaN  NaN\n",
       "\n",
       "[481631 rows x 4 columns]"
      ]
     },
     "execution_count": 40,
     "metadata": {},
     "output_type": "execute_result"
    }
   ],
   "source": [
    "points_with_counties"
   ]
  },
  {
   "cell_type": "code",
   "execution_count": 39,
   "metadata": {},
   "outputs": [
    {
     "data": {
      "text/plain": [
       "1926524"
      ]
     },
     "execution_count": 39,
     "metadata": {},
     "output_type": "execute_result"
    }
   ],
   "source": [
    "points_with_counties.size"
   ]
  },
  {
   "cell_type": "code",
   "execution_count": 36,
   "metadata": {},
   "outputs": [],
   "source": [
    "filtered_points_with_counties = points_with_counties.dropna(subset=['FIPS'])\n"
   ]
  },
  {
   "cell_type": "code",
   "execution_count": 41,
   "metadata": {},
   "outputs": [
    {
     "data": {
      "text/html": [
       "<div>\n",
       "<style scoped>\n",
       "    .dataframe tbody tr th:only-of-type {\n",
       "        vertical-align: middle;\n",
       "    }\n",
       "\n",
       "    .dataframe tbody tr th {\n",
       "        vertical-align: top;\n",
       "    }\n",
       "\n",
       "    .dataframe thead th {\n",
       "        text-align: right;\n",
       "    }\n",
       "</style>\n",
       "<table border=\"1\" class=\"dataframe\">\n",
       "  <thead>\n",
       "    <tr style=\"text-align: right;\">\n",
       "      <th></th>\n",
       "      <th>temperature</th>\n",
       "      <th>geometry</th>\n",
       "      <th>index_right</th>\n",
       "      <th>FIPS</th>\n",
       "    </tr>\n",
       "  </thead>\n",
       "  <tbody>\n",
       "    <tr>\n",
       "      <th>11</th>\n",
       "      <td>-9.049001</td>\n",
       "      <td>POINT (-95.125 49.33333)</td>\n",
       "      <td>8073.0</td>\n",
       "      <td>27077</td>\n",
       "    </tr>\n",
       "    <tr>\n",
       "      <th>12</th>\n",
       "      <td>-9.010000</td>\n",
       "      <td>POINT (-95.08333 49.33333)</td>\n",
       "      <td>8073.0</td>\n",
       "      <td>27077</td>\n",
       "    </tr>\n",
       "    <tr>\n",
       "      <th>13</th>\n",
       "      <td>-9.029000</td>\n",
       "      <td>POINT (-95.04167 49.33333)</td>\n",
       "      <td>8073.0</td>\n",
       "      <td>27077</td>\n",
       "    </tr>\n",
       "    <tr>\n",
       "      <th>14</th>\n",
       "      <td>-9.027000</td>\n",
       "      <td>POINT (-95 49.33333)</td>\n",
       "      <td>8073.0</td>\n",
       "      <td>27077</td>\n",
       "    </tr>\n",
       "    <tr>\n",
       "      <th>15</th>\n",
       "      <td>-8.969001</td>\n",
       "      <td>POINT (-94.95833 49.33333)</td>\n",
       "      <td>8073.0</td>\n",
       "      <td>27077</td>\n",
       "    </tr>\n",
       "    <tr>\n",
       "      <th>...</th>\n",
       "      <td>...</td>\n",
       "      <td>...</td>\n",
       "      <td>...</td>\n",
       "      <td>...</td>\n",
       "    </tr>\n",
       "    <tr>\n",
       "      <th>481574</th>\n",
       "      <td>15.556001</td>\n",
       "      <td>POINT (-81.54167 24.66667)</td>\n",
       "      <td>2953.0</td>\n",
       "      <td>12087</td>\n",
       "    </tr>\n",
       "    <tr>\n",
       "      <th>481575</th>\n",
       "      <td>15.526001</td>\n",
       "      <td>POINT (-81.5 24.66667)</td>\n",
       "      <td>2953.0</td>\n",
       "      <td>12087</td>\n",
       "    </tr>\n",
       "    <tr>\n",
       "      <th>481577</th>\n",
       "      <td>15.516001</td>\n",
       "      <td>POINT (-81.41667 24.66667)</td>\n",
       "      <td>2953.0</td>\n",
       "      <td>12087</td>\n",
       "    </tr>\n",
       "    <tr>\n",
       "      <th>481597</th>\n",
       "      <td>15.546000</td>\n",
       "      <td>POINT (-81.54167 24.625)</td>\n",
       "      <td>2953.0</td>\n",
       "      <td>12087</td>\n",
       "    </tr>\n",
       "    <tr>\n",
       "      <th>481615</th>\n",
       "      <td>15.474001</td>\n",
       "      <td>POINT (-81.625 24.58333)</td>\n",
       "      <td>2953.0</td>\n",
       "      <td>12087</td>\n",
       "    </tr>\n",
       "  </tbody>\n",
       "</table>\n",
       "<p>471176 rows × 4 columns</p>\n",
       "</div>"
      ],
      "text/plain": [
       "        temperature                    geometry  index_right   FIPS\n",
       "11        -9.049001    POINT (-95.125 49.33333)       8073.0  27077\n",
       "12        -9.010000  POINT (-95.08333 49.33333)       8073.0  27077\n",
       "13        -9.029000  POINT (-95.04167 49.33333)       8073.0  27077\n",
       "14        -9.027000        POINT (-95 49.33333)       8073.0  27077\n",
       "15        -8.969001  POINT (-94.95833 49.33333)       8073.0  27077\n",
       "...             ...                         ...          ...    ...\n",
       "481574    15.556001  POINT (-81.54167 24.66667)       2953.0  12087\n",
       "481575    15.526001      POINT (-81.5 24.66667)       2953.0  12087\n",
       "481577    15.516001  POINT (-81.41667 24.66667)       2953.0  12087\n",
       "481597    15.546000    POINT (-81.54167 24.625)       2953.0  12087\n",
       "481615    15.474001    POINT (-81.625 24.58333)       2953.0  12087\n",
       "\n",
       "[471176 rows x 4 columns]"
      ]
     },
     "execution_count": 41,
     "metadata": {},
     "output_type": "execute_result"
    }
   ],
   "source": [
    "filtered_points_with_counties"
   ]
  },
  {
   "cell_type": "code",
   "execution_count": 38,
   "metadata": {},
   "outputs": [
    {
     "data": {
      "text/plain": [
       "1884704"
      ]
     },
     "execution_count": 38,
     "metadata": {},
     "output_type": "execute_result"
    }
   ],
   "source": [
    "filtered_points_with_counties.size"
   ]
  },
  {
   "cell_type": "code",
   "execution_count": 42,
   "metadata": {},
   "outputs": [],
   "source": [
    "aggregated_df = filtered_points_with_counties.groupby('FIPS').agg(mean_temperature=('temperature', 'mean')).reset_index()\n"
   ]
  },
  {
   "cell_type": "code",
   "execution_count": 43,
   "metadata": {},
   "outputs": [
    {
     "data": {
      "text/html": [
       "<div>\n",
       "<style scoped>\n",
       "    .dataframe tbody tr th:only-of-type {\n",
       "        vertical-align: middle;\n",
       "    }\n",
       "\n",
       "    .dataframe tbody tr th {\n",
       "        vertical-align: top;\n",
       "    }\n",
       "\n",
       "    .dataframe thead th {\n",
       "        text-align: right;\n",
       "    }\n",
       "</style>\n",
       "<table border=\"1\" class=\"dataframe\">\n",
       "  <thead>\n",
       "    <tr style=\"text-align: right;\">\n",
       "      <th></th>\n",
       "      <th>FIPS</th>\n",
       "      <th>mean_temperature</th>\n",
       "    </tr>\n",
       "  </thead>\n",
       "  <tbody>\n",
       "    <tr>\n",
       "      <th>0</th>\n",
       "      <td>01001</td>\n",
       "      <td>6.052765</td>\n",
       "    </tr>\n",
       "    <tr>\n",
       "      <th>1</th>\n",
       "      <td>01003</td>\n",
       "      <td>6.715386</td>\n",
       "    </tr>\n",
       "    <tr>\n",
       "      <th>2</th>\n",
       "      <td>01005</td>\n",
       "      <td>5.527728</td>\n",
       "    </tr>\n",
       "    <tr>\n",
       "      <th>3</th>\n",
       "      <td>01007</td>\n",
       "      <td>6.123239</td>\n",
       "    </tr>\n",
       "    <tr>\n",
       "      <th>4</th>\n",
       "      <td>01009</td>\n",
       "      <td>5.990788</td>\n",
       "    </tr>\n",
       "    <tr>\n",
       "      <th>...</th>\n",
       "      <td>...</td>\n",
       "      <td>...</td>\n",
       "    </tr>\n",
       "    <tr>\n",
       "      <th>3097</th>\n",
       "      <td>56037</td>\n",
       "      <td>1.781057</td>\n",
       "    </tr>\n",
       "    <tr>\n",
       "      <th>3098</th>\n",
       "      <td>56039</td>\n",
       "      <td>-0.445345</td>\n",
       "    </tr>\n",
       "    <tr>\n",
       "      <th>3099</th>\n",
       "      <td>56041</td>\n",
       "      <td>0.589887</td>\n",
       "    </tr>\n",
       "    <tr>\n",
       "      <th>3100</th>\n",
       "      <td>56043</td>\n",
       "      <td>4.141521</td>\n",
       "    </tr>\n",
       "    <tr>\n",
       "      <th>3101</th>\n",
       "      <td>56045</td>\n",
       "      <td>1.714208</td>\n",
       "    </tr>\n",
       "  </tbody>\n",
       "</table>\n",
       "<p>3102 rows × 2 columns</p>\n",
       "</div>"
      ],
      "text/plain": [
       "       FIPS  mean_temperature\n",
       "0     01001          6.052765\n",
       "1     01003          6.715386\n",
       "2     01005          5.527728\n",
       "3     01007          6.123239\n",
       "4     01009          5.990788\n",
       "...     ...               ...\n",
       "3097  56037          1.781057\n",
       "3098  56039         -0.445345\n",
       "3099  56041          0.589887\n",
       "3100  56043          4.141521\n",
       "3101  56045          1.714208\n",
       "\n",
       "[3102 rows x 2 columns]"
      ]
     },
     "execution_count": 43,
     "metadata": {},
     "output_type": "execute_result"
    }
   ],
   "source": [
    "aggregated_df"
   ]
  }
 ],
 "metadata": {
  "kernelspec": {
   "display_name": "base",
   "language": "python",
   "name": "python3"
  },
  "language_info": {
   "codemirror_mode": {
    "name": "ipython",
    "version": 3
   },
   "file_extension": ".py",
   "mimetype": "text/x-python",
   "name": "python",
   "nbconvert_exporter": "python",
   "pygments_lexer": "ipython3",
   "version": "3.12.4"
  }
 },
 "nbformat": 4,
 "nbformat_minor": 2
}

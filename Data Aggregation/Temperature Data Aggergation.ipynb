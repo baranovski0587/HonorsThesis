{
 "cells": [
  {
   "cell_type": "code",
   "execution_count": 24,
   "metadata": {},
   "outputs": [],
   "source": [
    "import pandas as pd\n",
    "import numpy as np\n",
    "import os\n",
    "import rasterio \n",
    "from rasterio.transform import xy\n",
    "import geopandas as gpd\n",
    "from rasterio.features import geometry_mask\n",
    "from shapely.geometry import Point"
   ]
  },
  {
   "cell_type": "code",
   "execution_count": 16,
   "metadata": {},
   "outputs": [
    {
     "name": "stdout",
     "output_type": "stream",
     "text": [
      "Temperature Data Shape: (621, 1405)\n",
      "Affine Transformation: | 0.04, 0.00,-125.02|\n",
      "| 0.00,-0.04, 49.94|\n",
      "| 0.00, 0.00, 1.00|\n",
      "Coordinate Reference System: OGC:CRS83\n",
      "Geographic Bounds: BoundingBox(left=-125.0208333333335, bottom=24.0624999997925, right=-66.4791666661985, top=49.9374999999995)\n",
      "First 5 rows and columns of temperature data:\n",
      "[[-9999. -9999. -9999. -9999. -9999.]\n",
      " [-9999. -9999. -9999. -9999. -9999.]\n",
      " [-9999. -9999. -9999. -9999. -9999.]\n",
      " [-9999. -9999. -9999. -9999. -9999.]\n",
      " [-9999. -9999. -9999. -9999. -9999.]]\n"
     ]
    }
   ],
   "source": [
    "\n",
    "bil_file = r'C:\\Users\\yegor\\Desktop\\Honors Thesis\\Data\\Temperature\\PRISM_tmean_stable_4kmD2_20190101_20191231_bil\\PRISM_tmean_stable_4kmD2_20190101_bil.bil'\n",
    "\n",
    "with rasterio.open(bil_file) as dataset:\n",
    "    tmean_data = dataset.read(1)  # temp data\n",
    "    affine = dataset.transform  # transformation matrix\n",
    "    crs = dataset.crs  # coordinates\n",
    "    bounds = dataset.bounds  # geo bounds\n",
    "    \n",
    "    print(f\"Temperature Data Shape: {tmean_data.shape}\")\n",
    "    print(f\"Affine Transformation: {affine}\")\n",
    "    print(f\"Coordinate Reference System: {crs}\")\n",
    "    print(f\"Geographic Bounds: {bounds}\")\n",
    "    \n",
    "    print(\"First 5 rows and columns of temperature data:\")\n",
    "    print(tmean_data[:5, :5])  #top left 5x5 tempt data\n"
   ]
  },
  {
   "cell_type": "code",
   "execution_count": 14,
   "metadata": {},
   "outputs": [
    {
     "name": "stdout",
     "output_type": "stream",
     "text": [
      "First valid temperature value: -24.99700164794922\n",
      "Corresponding coordinates: Longitude = -95.124999999761, Latitude = 49.416666666662\n"
     ]
    }
   ],
   "source": [
    "bil_file = r'C:\\Users\\yegor\\Desktop\\Honors Thesis\\Data\\Temperature\\PRISM_tmean_stable_4kmD2_20190101_20191231_bil\\PRISM_tmean_stable_4kmD2_20190101_bil.bil'\n",
    "with rasterio.open(bil_file) as dataset:\n",
    "    tmean_data = dataset.read(1)  #first band is temp data\n",
    "    affine = dataset.transform  # transformation matric\n",
    "    crs = dataset.crs  # coordinate refernce system\n",
    "\n",
    "    valid_temperature_data = np.ma.masked_equal(tmean_data, -9999) # mask \"missing values\"\n",
    "    \n",
    "    # row col of missing\n",
    "    valid_indices = np.argwhere(valid_temperature_data.mask == False)\n",
    "\n",
    "    # conversion to coordinates\n",
    "    row, col = valid_indices[0]\n",
    "    lon, lat = rasterio.transform.xy(affine, row, col, offset='center')\n",
    "    \n",
    "    print(f\"First valid temperature value: {valid_temperature_data[row, col]}\")\n",
    "    print(f\"Corresponding coordinates: Longitude = {lon}, Latitude = {lat}\")\n"
   ]
  },
  {
   "cell_type": "code",
   "execution_count": 15,
   "metadata": {},
   "outputs": [
    {
     "name": "stdout",
     "output_type": "stream",
     "text": [
      "First valid temperature value: 0.0024999999441206455\n",
      "Corresponding coordinates: Longitude = -95.124999999761, Latitude = 49.416666666662\n"
     ]
    }
   ],
   "source": [
    "bil_file = r'C:\\Users\\yegor\\Desktop\\Honors Thesis\\Data\\Temperature\\PRISM_tmean_stable_4kmD2_20190101_20191231_bil\\PRISM_tmean_stable_4kmD2_20190402_bil.bil'\n",
    "with rasterio.open(bil_file) as dataset:\n",
    "    tmean_data = dataset.read(1)  #first band is temp data\n",
    "    affine = dataset.transform  # transformation matric\n",
    "    crs = dataset.crs  # coordinate refernce system\n",
    "\n",
    "    valid_temperature_data = np.ma.masked_equal(tmean_data, -9999) # mask \"missing values\"\n",
    "    \n",
    "    # row col of missing\n",
    "    valid_indices = np.argwhere(valid_temperature_data.mask == False)\n",
    "\n",
    "    # conversion to coordinates\n",
    "    row, col = valid_indices[0]\n",
    "    lon, lat = rasterio.transform.xy(affine, row, col, offset='center')\n",
    "    \n",
    "    print(f\"First valid temperature value: {valid_temperature_data[row, col]}\")\n",
    "    print(f\"Corresponding coordinates: Longitude = {lon}, Latitude = {lat}\")"
   ]
  },
  {
   "cell_type": "code",
   "execution_count": 20,
   "metadata": {},
   "outputs": [],
   "source": [
    "temperature_records = []\n",
    "\n",
    "# Read the .bil file (example: January 1, 2019)\n",
    "bil_file = r'C:\\Users\\yegor\\Desktop\\Honors Thesis\\Data\\Temperature\\PRISM_tmean_stable_4kmD2_20190101_20191231_bil\\PRISM_tmean_stable_4kmD2_20190101_bil.bil'\n",
    "\n",
    "with rasterio.open(bil_file) as dataset:\n",
    "    tmean_data = dataset.read(1)  \n",
    "    affine = dataset.transform  \n",
    "\n",
    "    #mask data\n",
    "    tmean_data = np.ma.masked_equal(tmean_data, -9999)\n",
    "    \n",
    "    #loop through the grid and store valid data\n",
    "    for row in range(tmean_data.shape[0]):\n",
    "        for col in range(tmean_data.shape[1]):\n",
    "            if not tmean_data.mask[row, col]:  #valid data only\n",
    "                lon, lat = xy(affine, row, col)  #geo coordinate conversion\n",
    "                temperature = tmean_data[row, col]\n",
    "                #store as dictionary \n",
    "                temperature_records.append({\n",
    "                    'latitude': lat,\n",
    "                    'longitude': lon,\n",
    "                    'temperature': temperature,\n",
    "                    'date': '2019-01-01'  \n",
    "                })\n",
    "\n",
    "\n",
    "df = pd.DataFrame(temperature_records)"
   ]
  },
  {
   "cell_type": "code",
   "execution_count": 21,
   "metadata": {},
   "outputs": [
    {
     "data": {
      "text/html": [
       "<div>\n",
       "<style scoped>\n",
       "    .dataframe tbody tr th:only-of-type {\n",
       "        vertical-align: middle;\n",
       "    }\n",
       "\n",
       "    .dataframe tbody tr th {\n",
       "        vertical-align: top;\n",
       "    }\n",
       "\n",
       "    .dataframe thead th {\n",
       "        text-align: right;\n",
       "    }\n",
       "</style>\n",
       "<table border=\"1\" class=\"dataframe\">\n",
       "  <thead>\n",
       "    <tr style=\"text-align: right;\">\n",
       "      <th></th>\n",
       "      <th>latitude</th>\n",
       "      <th>longitude</th>\n",
       "      <th>temperature</th>\n",
       "      <th>date</th>\n",
       "    </tr>\n",
       "  </thead>\n",
       "  <tbody>\n",
       "    <tr>\n",
       "      <th>0</th>\n",
       "      <td>49.416667</td>\n",
       "      <td>-95.125000</td>\n",
       "      <td>-24.997002</td>\n",
       "      <td>2019-01-01</td>\n",
       "    </tr>\n",
       "    <tr>\n",
       "      <th>1</th>\n",
       "      <td>49.375000</td>\n",
       "      <td>-95.166667</td>\n",
       "      <td>-24.939001</td>\n",
       "      <td>2019-01-01</td>\n",
       "    </tr>\n",
       "    <tr>\n",
       "      <th>2</th>\n",
       "      <td>49.375000</td>\n",
       "      <td>-95.125000</td>\n",
       "      <td>-24.968000</td>\n",
       "      <td>2019-01-01</td>\n",
       "    </tr>\n",
       "    <tr>\n",
       "      <th>3</th>\n",
       "      <td>49.375000</td>\n",
       "      <td>-95.083333</td>\n",
       "      <td>-25.041000</td>\n",
       "      <td>2019-01-01</td>\n",
       "    </tr>\n",
       "    <tr>\n",
       "      <th>4</th>\n",
       "      <td>49.375000</td>\n",
       "      <td>-95.041667</td>\n",
       "      <td>-25.163002</td>\n",
       "      <td>2019-01-01</td>\n",
       "    </tr>\n",
       "    <tr>\n",
       "      <th>...</th>\n",
       "      <td>...</td>\n",
       "      <td>...</td>\n",
       "      <td>...</td>\n",
       "      <td>...</td>\n",
       "    </tr>\n",
       "    <tr>\n",
       "      <th>481626</th>\n",
       "      <td>24.541667</td>\n",
       "      <td>-81.666667</td>\n",
       "      <td>25.906002</td>\n",
       "      <td>2019-01-01</td>\n",
       "    </tr>\n",
       "    <tr>\n",
       "      <th>481627</th>\n",
       "      <td>24.541667</td>\n",
       "      <td>-81.625000</td>\n",
       "      <td>25.937002</td>\n",
       "      <td>2019-01-01</td>\n",
       "    </tr>\n",
       "    <tr>\n",
       "      <th>481628</th>\n",
       "      <td>24.500000</td>\n",
       "      <td>-82.166667</td>\n",
       "      <td>26.131001</td>\n",
       "      <td>2019-01-01</td>\n",
       "    </tr>\n",
       "    <tr>\n",
       "      <th>481629</th>\n",
       "      <td>24.500000</td>\n",
       "      <td>-82.125000</td>\n",
       "      <td>26.119001</td>\n",
       "      <td>2019-01-01</td>\n",
       "    </tr>\n",
       "    <tr>\n",
       "      <th>481630</th>\n",
       "      <td>24.500000</td>\n",
       "      <td>-81.791667</td>\n",
       "      <td>25.960001</td>\n",
       "      <td>2019-01-01</td>\n",
       "    </tr>\n",
       "  </tbody>\n",
       "</table>\n",
       "<p>481631 rows × 4 columns</p>\n",
       "</div>"
      ],
      "text/plain": [
       "         latitude  longitude  temperature        date\n",
       "0       49.416667 -95.125000   -24.997002  2019-01-01\n",
       "1       49.375000 -95.166667   -24.939001  2019-01-01\n",
       "2       49.375000 -95.125000   -24.968000  2019-01-01\n",
       "3       49.375000 -95.083333   -25.041000  2019-01-01\n",
       "4       49.375000 -95.041667   -25.163002  2019-01-01\n",
       "...           ...        ...          ...         ...\n",
       "481626  24.541667 -81.666667    25.906002  2019-01-01\n",
       "481627  24.541667 -81.625000    25.937002  2019-01-01\n",
       "481628  24.500000 -82.166667    26.131001  2019-01-01\n",
       "481629  24.500000 -82.125000    26.119001  2019-01-01\n",
       "481630  24.500000 -81.791667    25.960001  2019-01-01\n",
       "\n",
       "[481631 rows x 4 columns]"
      ]
     },
     "execution_count": 21,
     "metadata": {},
     "output_type": "execute_result"
    }
   ],
   "source": [
    "df"
   ]
  },
  {
   "cell_type": "markdown",
   "metadata": {},
   "source": [
    "**Takes about 15-20 seconds to run one day into full output, need to aggregate by county first. County lines can change slightly over time, multiple solutions (depends on how mortality data would be defined). for instance, if they just give address for mortality, then can just aggregate to modern county lines.**\n",
    "\n"
   ]
  },
  {
   "cell_type": "code",
   "execution_count": null,
   "metadata": {},
   "outputs": [],
   "source": [
    "\n",
    "\n",
    "counties = gpd.read_file(county_shapefile)\n",
    "\n",
    "print(counties.columns) \n",
    "\n",
    "counties = counties.to_crs('OGC:CRS83') # would have to loop this in for given FILE\n",
    "for row in range(valid_temperature_data.shape[0]):\n",
    "            for col in range(valid_temperature_data.shape[1]):\n",
    "                if not valid_temperature_data.mask[row, col]:  # only process valid \n",
    "                    lon, lat = rasterio.transform.xy(affine, row, col)  #convert to coords\n",
    "                    temperature = valid_temperature_data[row, col]\n",
    "\n",
    "                    # point for gril cell\n",
    "                    point = Point(lon, lat)\n",
    "\n",
    "                    #find which county this point falls into using spatial join\n",
    "                    for county in counties.itertuples():\n",
    "                        if county.geometry.contains(point):\n",
    "                            #append temperature and county FIPS code\n",
    "                            county_temperatures.append((county.GEOID, temperature))"
   ]
  }
 ],
 "metadata": {
  "kernelspec": {
   "display_name": "base",
   "language": "python",
   "name": "python3"
  },
  "language_info": {
   "codemirror_mode": {
    "name": "ipython",
    "version": 3
   },
   "file_extension": ".py",
   "mimetype": "text/x-python",
   "name": "python",
   "nbconvert_exporter": "python",
   "pygments_lexer": "ipython3",
   "version": "3.12.4"
  }
 },
 "nbformat": 4,
 "nbformat_minor": 2
}
